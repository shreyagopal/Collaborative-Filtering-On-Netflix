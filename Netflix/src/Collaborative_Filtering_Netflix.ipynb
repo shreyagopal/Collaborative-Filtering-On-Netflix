{
  "nbformat": 4,
  "nbformat_minor": 0,
  "metadata": {
    "colab": {
      "name": "Collaborative Filtering Netflix.ipynb",
      "provenance": []
    },
    "kernelspec": {
      "name": "python3",
      "display_name": "Python 3"
    },
    "accelerator": "GPU"
  },
  "cells": [
    {
      "cell_type": "markdown",
      "metadata": {
        "id": "6Z38Mah6KNmj",
        "colab_type": "text"
      },
      "source": [
        "# **COLLABORATIVE FILTERING USING THE NETFLIX DATA**"
      ]
    },
    {
      "cell_type": "code",
      "metadata": {
        "id": "de5jpaDzRYtj",
        "colab_type": "code",
        "colab": {
          "base_uri": "https://localhost:8080/",
          "height": 72
        },
        "outputId": "268bc070-6d3f-47eb-af8b-383dd31818f1"
      },
      "source": [
        "import pandas as pd\n",
        "import numpy as np\n",
        "import matplotlib.pyplot as plt\n",
        "import seaborn as sns"
      ],
      "execution_count": 1,
      "outputs": [
        {
          "output_type": "stream",
          "text": [
            "/usr/local/lib/python3.6/dist-packages/statsmodels/tools/_testing.py:19: FutureWarning: pandas.util.testing is deprecated. Use the functions in the public API at pandas.testing instead.\n",
            "  import pandas.util.testing as tm\n"
          ],
          "name": "stderr"
        }
      ]
    },
    {
      "cell_type": "code",
      "metadata": {
        "id": "OLKeZA9uFvXb",
        "colab_type": "code",
        "colab": {}
      },
      "source": [
        "columns = ['MovieID','UserID', 'Rating']\n",
        "train = pd.read_csv('TrainingRatings.txt', names=columns)\n",
        "test = pd.read_csv('TestingRatings.txt', names = columns)"
      ],
      "execution_count": 0,
      "outputs": []
    },
    {
      "cell_type": "code",
      "metadata": {
        "id": "Fvg_SuPsGZ-R",
        "colab_type": "code",
        "colab": {
          "base_uri": "https://localhost:8080/",
          "height": 200
        },
        "outputId": "603b1e9d-85ba-4efd-d52a-a26ae652fa91"
      },
      "source": [
        "train.head()"
      ],
      "execution_count": 3,
      "outputs": [
        {
          "output_type": "execute_result",
          "data": {
            "text/html": [
              "<div>\n",
              "<style scoped>\n",
              "    .dataframe tbody tr th:only-of-type {\n",
              "        vertical-align: middle;\n",
              "    }\n",
              "\n",
              "    .dataframe tbody tr th {\n",
              "        vertical-align: top;\n",
              "    }\n",
              "\n",
              "    .dataframe thead th {\n",
              "        text-align: right;\n",
              "    }\n",
              "</style>\n",
              "<table border=\"1\" class=\"dataframe\">\n",
              "  <thead>\n",
              "    <tr style=\"text-align: right;\">\n",
              "      <th></th>\n",
              "      <th>MovieID</th>\n",
              "      <th>UserID</th>\n",
              "      <th>Rating</th>\n",
              "    </tr>\n",
              "  </thead>\n",
              "  <tbody>\n",
              "    <tr>\n",
              "      <th>0</th>\n",
              "      <td>8</td>\n",
              "      <td>1744889</td>\n",
              "      <td>1.0</td>\n",
              "    </tr>\n",
              "    <tr>\n",
              "      <th>1</th>\n",
              "      <td>8</td>\n",
              "      <td>1395430</td>\n",
              "      <td>2.0</td>\n",
              "    </tr>\n",
              "    <tr>\n",
              "      <th>2</th>\n",
              "      <td>8</td>\n",
              "      <td>1205593</td>\n",
              "      <td>4.0</td>\n",
              "    </tr>\n",
              "    <tr>\n",
              "      <th>3</th>\n",
              "      <td>8</td>\n",
              "      <td>1488844</td>\n",
              "      <td>4.0</td>\n",
              "    </tr>\n",
              "    <tr>\n",
              "      <th>4</th>\n",
              "      <td>8</td>\n",
              "      <td>1447354</td>\n",
              "      <td>1.0</td>\n",
              "    </tr>\n",
              "  </tbody>\n",
              "</table>\n",
              "</div>"
            ],
            "text/plain": [
              "   MovieID   UserID  Rating\n",
              "0        8  1744889     1.0\n",
              "1        8  1395430     2.0\n",
              "2        8  1205593     4.0\n",
              "3        8  1488844     4.0\n",
              "4        8  1447354     1.0"
            ]
          },
          "metadata": {
            "tags": []
          },
          "execution_count": 3
        }
      ]
    },
    {
      "cell_type": "code",
      "metadata": {
        "id": "XWvsYrqvFvTy",
        "colab_type": "code",
        "colab": {
          "base_uri": "https://localhost:8080/",
          "height": 200
        },
        "outputId": "31e92b27-e1df-48da-e6d4-baeea92acd98"
      },
      "source": [
        "test.head()"
      ],
      "execution_count": 4,
      "outputs": [
        {
          "output_type": "execute_result",
          "data": {
            "text/html": [
              "<div>\n",
              "<style scoped>\n",
              "    .dataframe tbody tr th:only-of-type {\n",
              "        vertical-align: middle;\n",
              "    }\n",
              "\n",
              "    .dataframe tbody tr th {\n",
              "        vertical-align: top;\n",
              "    }\n",
              "\n",
              "    .dataframe thead th {\n",
              "        text-align: right;\n",
              "    }\n",
              "</style>\n",
              "<table border=\"1\" class=\"dataframe\">\n",
              "  <thead>\n",
              "    <tr style=\"text-align: right;\">\n",
              "      <th></th>\n",
              "      <th>MovieID</th>\n",
              "      <th>UserID</th>\n",
              "      <th>Rating</th>\n",
              "    </tr>\n",
              "  </thead>\n",
              "  <tbody>\n",
              "    <tr>\n",
              "      <th>0</th>\n",
              "      <td>8</td>\n",
              "      <td>573364</td>\n",
              "      <td>1.0</td>\n",
              "    </tr>\n",
              "    <tr>\n",
              "      <th>1</th>\n",
              "      <td>8</td>\n",
              "      <td>2149668</td>\n",
              "      <td>3.0</td>\n",
              "    </tr>\n",
              "    <tr>\n",
              "      <th>2</th>\n",
              "      <td>8</td>\n",
              "      <td>1089184</td>\n",
              "      <td>3.0</td>\n",
              "    </tr>\n",
              "    <tr>\n",
              "      <th>3</th>\n",
              "      <td>8</td>\n",
              "      <td>2465894</td>\n",
              "      <td>3.0</td>\n",
              "    </tr>\n",
              "    <tr>\n",
              "      <th>4</th>\n",
              "      <td>8</td>\n",
              "      <td>534508</td>\n",
              "      <td>1.0</td>\n",
              "    </tr>\n",
              "  </tbody>\n",
              "</table>\n",
              "</div>"
            ],
            "text/plain": [
              "   MovieID   UserID  Rating\n",
              "0        8   573364     1.0\n",
              "1        8  2149668     3.0\n",
              "2        8  1089184     3.0\n",
              "3        8  2465894     3.0\n",
              "4        8   534508     1.0"
            ]
          },
          "metadata": {
            "tags": []
          },
          "execution_count": 4
        }
      ]
    },
    {
      "cell_type": "code",
      "metadata": {
        "id": "9mwH_ThEngOh",
        "colab_type": "code",
        "colab": {
          "base_uri": "https://localhost:8080/",
          "height": 35
        },
        "outputId": "438fd02c-368d-411e-8242-649b24c7d721"
      },
      "source": [
        "train.shape"
      ],
      "execution_count": 5,
      "outputs": [
        {
          "output_type": "execute_result",
          "data": {
            "text/plain": [
              "(3255352, 3)"
            ]
          },
          "metadata": {
            "tags": []
          },
          "execution_count": 5
        }
      ]
    },
    {
      "cell_type": "code",
      "metadata": {
        "id": "hE9fBCOinlwa",
        "colab_type": "code",
        "colab": {
          "base_uri": "https://localhost:8080/",
          "height": 35
        },
        "outputId": "08cfc5bb-d280-445c-9a86-42032d3d20b5"
      },
      "source": [
        "test.shape"
      ],
      "execution_count": 6,
      "outputs": [
        {
          "output_type": "execute_result",
          "data": {
            "text/plain": [
              "(100478, 3)"
            ]
          },
          "metadata": {
            "tags": []
          },
          "execution_count": 6
        }
      ]
    },
    {
      "cell_type": "code",
      "metadata": {
        "id": "4VmdtauttAaR",
        "colab_type": "code",
        "colab": {
          "base_uri": "https://localhost:8080/",
          "height": 444
        },
        "outputId": "0ecd63b3-1670-4e0c-de4e-4abf09cc25d0"
      },
      "source": [
        "print(train.info())\n",
        "print('\\n')\n",
        "print(test.info())"
      ],
      "execution_count": 7,
      "outputs": [
        {
          "output_type": "stream",
          "text": [
            "<class 'pandas.core.frame.DataFrame'>\n",
            "RangeIndex: 3255352 entries, 0 to 3255351\n",
            "Data columns (total 3 columns):\n",
            " #   Column   Dtype  \n",
            "---  ------   -----  \n",
            " 0   MovieID  int64  \n",
            " 1   UserID   int64  \n",
            " 2   Rating   float64\n",
            "dtypes: float64(1), int64(2)\n",
            "memory usage: 74.5 MB\n",
            "None\n",
            "\n",
            "\n",
            "<class 'pandas.core.frame.DataFrame'>\n",
            "RangeIndex: 100478 entries, 0 to 100477\n",
            "Data columns (total 3 columns):\n",
            " #   Column   Non-Null Count   Dtype  \n",
            "---  ------   --------------   -----  \n",
            " 0   MovieID  100478 non-null  int64  \n",
            " 1   UserID   100478 non-null  int64  \n",
            " 2   Rating   100478 non-null  float64\n",
            "dtypes: float64(1), int64(2)\n",
            "memory usage: 2.3 MB\n",
            "None\n"
          ],
          "name": "stdout"
        }
      ]
    },
    {
      "cell_type": "code",
      "metadata": {
        "id": "s6WJgfOSx1Iw",
        "colab_type": "code",
        "colab": {
          "base_uri": "https://localhost:8080/",
          "height": 200
        },
        "outputId": "f71f7223-48cf-4e2b-e28b-4d118744457a"
      },
      "source": [
        "movie = pd.read_csv('movie_titles.txt', encoding = \"ISO-8859-1\", names = ['MovieID', 'Year', 'Name'])\n",
        "movie.head()"
      ],
      "execution_count": 8,
      "outputs": [
        {
          "output_type": "execute_result",
          "data": {
            "text/html": [
              "<div>\n",
              "<style scoped>\n",
              "    .dataframe tbody tr th:only-of-type {\n",
              "        vertical-align: middle;\n",
              "    }\n",
              "\n",
              "    .dataframe tbody tr th {\n",
              "        vertical-align: top;\n",
              "    }\n",
              "\n",
              "    .dataframe thead th {\n",
              "        text-align: right;\n",
              "    }\n",
              "</style>\n",
              "<table border=\"1\" class=\"dataframe\">\n",
              "  <thead>\n",
              "    <tr style=\"text-align: right;\">\n",
              "      <th></th>\n",
              "      <th>MovieID</th>\n",
              "      <th>Year</th>\n",
              "      <th>Name</th>\n",
              "    </tr>\n",
              "  </thead>\n",
              "  <tbody>\n",
              "    <tr>\n",
              "      <th>0</th>\n",
              "      <td>1</td>\n",
              "      <td>2003.0</td>\n",
              "      <td>Dinosaur Planet</td>\n",
              "    </tr>\n",
              "    <tr>\n",
              "      <th>1</th>\n",
              "      <td>2</td>\n",
              "      <td>2004.0</td>\n",
              "      <td>Isle of Man TT 2004 Review</td>\n",
              "    </tr>\n",
              "    <tr>\n",
              "      <th>2</th>\n",
              "      <td>3</td>\n",
              "      <td>1997.0</td>\n",
              "      <td>Character</td>\n",
              "    </tr>\n",
              "    <tr>\n",
              "      <th>3</th>\n",
              "      <td>4</td>\n",
              "      <td>1994.0</td>\n",
              "      <td>Paula Abdul's Get Up &amp; Dance</td>\n",
              "    </tr>\n",
              "    <tr>\n",
              "      <th>4</th>\n",
              "      <td>5</td>\n",
              "      <td>2004.0</td>\n",
              "      <td>The Rise and Fall of ECW</td>\n",
              "    </tr>\n",
              "  </tbody>\n",
              "</table>\n",
              "</div>"
            ],
            "text/plain": [
              "   MovieID    Year                          Name\n",
              "0        1  2003.0               Dinosaur Planet\n",
              "1        2  2004.0    Isle of Man TT 2004 Review\n",
              "2        3  1997.0                     Character\n",
              "3        4  1994.0  Paula Abdul's Get Up & Dance\n",
              "4        5  2004.0      The Rise and Fall of ECW"
            ]
          },
          "metadata": {
            "tags": []
          },
          "execution_count": 8
        }
      ]
    },
    {
      "cell_type": "code",
      "metadata": {
        "id": "RrEMNhlax7OT",
        "colab_type": "code",
        "colab": {
          "base_uri": "https://localhost:8080/",
          "height": 195
        },
        "outputId": "addab096-e560-40fe-b85b-2e38a858bd60"
      },
      "source": [
        "movie.info()"
      ],
      "execution_count": 9,
      "outputs": [
        {
          "output_type": "stream",
          "text": [
            "<class 'pandas.core.frame.DataFrame'>\n",
            "RangeIndex: 17770 entries, 0 to 17769\n",
            "Data columns (total 3 columns):\n",
            " #   Column   Non-Null Count  Dtype  \n",
            "---  ------   --------------  -----  \n",
            " 0   MovieID  17770 non-null  int64  \n",
            " 1   Year     17763 non-null  float64\n",
            " 2   Name     17770 non-null  object \n",
            "dtypes: float64(1), int64(1), object(1)\n",
            "memory usage: 416.6+ KB\n"
          ],
          "name": "stdout"
        }
      ]
    },
    {
      "cell_type": "markdown",
      "metadata": {
        "id": "5f5f9zlOtAMu",
        "colab_type": "text"
      },
      "source": [
        "## **Data Visualization**"
      ]
    },
    {
      "cell_type": "code",
      "metadata": {
        "id": "7JR7MfbhFvM8",
        "colab_type": "code",
        "colab": {
          "base_uri": "https://localhost:8080/",
          "height": 675
        },
        "outputId": "669a5f48-920f-47c5-b24f-633e1515a959"
      },
      "source": [
        "train.hist(bins = 50,figsize = (15,11))\n",
        "plt.show()"
      ],
      "execution_count": 10,
      "outputs": [
        {
          "output_type": "display_data",
          "data": {
            "image/png": "[encoded data removed]",
            "text/plain": [
              "<Figure size 1080x792 with 4 Axes>"
            ]
          },
          "metadata": {
            "tags": [],
            "needs_background": "light"
          }
        }
      ]
    },
    {
      "cell_type": "code",
      "metadata": {
        "id": "kTmONqWOrVnE",
        "colab_type": "code",
        "colab": {
          "base_uri": "https://localhost:8080/",
          "height": 675
        },
        "outputId": "aae74295-25b9-4f6e-cd0f-fe84acef26b9"
      },
      "source": [
        "test.hist(bins = 50,figsize = (15,11))\n",
        "plt.show()"
      ],
      "execution_count": 11,
      "outputs": [
        {
          "output_type": "display_data",
          "data": {
            "image/png": "[encoded data removed]",
            "text/plain": [
              "<Figure size 1080x792 with 4 Axes>"
            ]
          },
          "metadata": {
            "tags": [],
            "needs_background": "light"
          }
        }
      ]
    },
    {
      "cell_type": "code",
      "metadata": {
        "id": "ahcokK7pPNmI",
        "colab_type": "code",
        "colab": {
          "base_uri": "https://localhost:8080/",
          "height": 530
        },
        "outputId": "d9f746f8-1d35-4c99-973c-4eef6ac8c806"
      },
      "source": [
        "#Scatter matrix of train data\n",
        "from pandas.plotting import scatter_matrix\n",
        "scatter_matrix(train, figsize=(20,10))\n",
        "plt.show()"
      ],
      "execution_count": 12,
      "outputs": [
        {
          "output_type": "display_data",
          "data": {
            "image/png": "[encoded data removed]",
            "text/plain": [
              "<Figure size 1440x720 with 9 Axes>"
            ]
          },
          "metadata": {
            "tags": [],
            "needs_background": "light"
          }
        }
      ]
    },
    {
      "cell_type": "code",
      "metadata": {
        "id": "7ta8qmKgPTio",
        "colab_type": "code",
        "colab": {
          "base_uri": "https://localhost:8080/",
          "height": 530
        },
        "outputId": "0fb795e6-c5ae-4eda-d915-c287d5e64615"
      },
      "source": [
        "#Scatter matrix of test data\n",
        "scatter_matrix(test,figsize=(20,10))\n",
        "plt.show()"
      ],
      "execution_count": 13,
      "outputs": [
        {
          "output_type": "display_data",
          "data": {
            "image/png": "[encoded data removed]",
            "text/plain": [
              "<Figure size 1440x720 with 9 Axes>"
            ]
          },
          "metadata": {
            "tags": [],
            "needs_background": "light"
          }
        }
      ]
    },
    {
      "cell_type": "markdown",
      "metadata": {
        "id": "A43jJ4dcsMkT",
        "colab_type": "text"
      },
      "source": [
        "## **Problem 2: Analyzing the Netflix Data**"
      ]
    },
    {
      "cell_type": "code",
      "metadata": {
        "id": "yQKF_JuYsPuI",
        "colab_type": "code",
        "colab": {}
      },
      "source": [
        "#dropping duplicates in the data if any\n",
        "train.drop_duplicates(keep = \"first\", inplace = True)\n",
        "test.drop_duplicates(keep = \"first\", inplace = True)"
      ],
      "execution_count": 0,
      "outputs": []
    },
    {
      "cell_type": "code",
      "metadata": {
        "id": "AWJsS0zbt2lt",
        "colab_type": "code",
        "colab": {
          "base_uri": "https://localhost:8080/",
          "height": 106
        },
        "outputId": "193e7e1d-2d92-42c8-e2e5-876b2dca7bd6"
      },
      "source": [
        "movie0 = train['MovieID'].nunique()\n",
        "user0 = train['UserID'].nunique()\n",
        "rate0 = train['Rating'].nunique()\n",
        "\n",
        "print(\"TRAINING DATA:\")\n",
        "print(\"\\nCount of Unique Movies :\",movie0)\n",
        "print(\"Count of Unique Users :\",user0)\n",
        "print(\"Count of Unique Ratings :\",rate0)"
      ],
      "execution_count": 11,
      "outputs": [
        {
          "output_type": "stream",
          "text": [
            "TRAINING DATA:\n",
            "\n",
            "Count of Unique Movies : 1821\n",
            "Count of Unique Users : 28978\n",
            "Count of Unique Ratings : 5\n"
          ],
          "name": "stdout"
        }
      ]
    },
    {
      "cell_type": "code",
      "metadata": {
        "id": "nGKhuu9Ey-Lv",
        "colab_type": "code",
        "colab": {
          "base_uri": "https://localhost:8080/",
          "height": 106
        },
        "outputId": "1eec2e05-608f-4900-89d9-d585de299000"
      },
      "source": [
        "movie1 = test['MovieID'].nunique()\n",
        "rate1 = test['Rating'].nunique()\n",
        "user1 = test['UserID'].nunique()\n",
        "\n",
        "print(\"TEST DATA:\")\n",
        "print(\"\\nCount of Unique Movies :\",movie1)\n",
        "print(\"Count of Unique Ratings :\",rate1)\n",
        "print(\"Count of Unique Users :\",user1)"
      ],
      "execution_count": 12,
      "outputs": [
        {
          "output_type": "stream",
          "text": [
            "TEST DATA:\n",
            "\n",
            "Count of Unique Movies : 1701\n",
            "Count of Unique Ratings : 5\n",
            "Count of Unique Users : 27555\n"
          ],
          "name": "stdout"
        }
      ]
    },
    {
      "cell_type": "code",
      "metadata": {
        "id": "kOfDDsEw6-mi",
        "colab_type": "code",
        "colab": {
          "base_uri": "https://localhost:8080/",
          "height": 35
        },
        "outputId": "4677f315-58fe-45c2-a558-2ea90061308f"
      },
      "source": [
        "train['UserID'].unique()"
      ],
      "execution_count": 13,
      "outputs": [
        {
          "output_type": "execute_result",
          "data": {
            "text/plain": [
              "array([1744889, 1395430, 1205593, ...,  571547, 2080843, 2383861])"
            ]
          },
          "metadata": {
            "tags": []
          },
          "execution_count": 13
        }
      ]
    },
    {
      "cell_type": "code",
      "metadata": {
        "id": "Gpx3sPzV6-pU",
        "colab_type": "code",
        "colab": {
          "base_uri": "https://localhost:8080/",
          "height": 479
        },
        "outputId": "adcb3af5-322f-41e6-d537-935ef6b271cb"
      },
      "source": [
        "user2080843 = train[(train['UserID'] == 2080843) & (train['Rating'] == 5)]\n",
        "user2080843 = user2080843.set_index('MovieID')\n",
        "user2080843 = user2080843.join(movie)['Name']\n",
        "print(user2080843)"
      ],
      "execution_count": 14,
      "outputs": [
        {
          "output_type": "stream",
          "text": [
            "MovieID\n",
            "1615                The Flintstones: Season 2\n",
            "2290                    Film School: Season 1\n",
            "2660                       Wrath of the Ninja\n",
            "2861                 The Silence of the Lambs\n",
            "2913                                   Kasoor\n",
            "2955                       Lie Down with Dogs\n",
            "4385            The Return of the Living Dead\n",
            "5562       Woodstock: 3 Days of Peace & Music\n",
            "6281                                   Madman\n",
            "6287                        Essence of Echoes\n",
            "7445     The Office: Series 1: Bonus Material\n",
            "7511                         Poor White Trash\n",
            "7577                Who's the Boss?: Season 1\n",
            "10662                Kipper: Friendship Tails\n",
            "10947                             Easy Riders\n",
            "11673                    The Name of the Rose\n",
            "11812                             Cold & Dark\n",
            "11837                                   Omagh\n",
            "12497       Goosebumps: Welcome to Dead House\n",
            "13614                       The Great Silence\n",
            "14185                             Bitter Moon\n",
            "14209                  Grave of the Fireflies\n",
            "14716                    Confusion of Genders\n",
            "14807            Viva La Bam: Seasons 2 and 3\n",
            "Name: Name, dtype: object\n"
          ],
          "name": "stdout"
        }
      ]
    },
    {
      "cell_type": "code",
      "metadata": {
        "id": "cpf9mojz9YfW",
        "colab_type": "code",
        "colab": {
          "base_uri": "https://localhost:8080/",
          "height": 497
        },
        "outputId": "7ee241c1-67cf-43dd-8b16-1ae6c573a404"
      },
      "source": [
        "user571547 = train[(train['UserID'] == 571547) & (train['Rating'] == 5)]\n",
        "user571547 = user571547.set_index('MovieID')\n",
        "user571547 = user571547.join(movie)['Name']\n",
        "print(user571547)"
      ],
      "execution_count": 15,
      "outputs": [
        {
          "output_type": "stream",
          "text": [
            "MovieID\n",
            "1744                                             Love Me\n",
            "4432                                          Drive Well\n",
            "4847     The Adventures of Jimmy Neutron: Sea of Trouble\n",
            "5656                                   Billabong Odyssey\n",
            "5814                                       Kill Me Later\n",
            "6556                      Cezanne: Three Colours Cezanne\n",
            "6971                                          Armageddon\n",
            "7145                                       Light Sleeper\n",
            "7406                    The Dick Cavett Show: Rock Icons\n",
            "8384                                       Mistress Club\n",
            "8512                                      American Crime\n",
            "10429                                        Wagons East\n",
            "10721                                            Creator\n",
            "10921                                  The Little Prince\n",
            "12355             Whales: An Unforgettable Journey: IMAX\n",
            "13614                                  The Great Silence\n",
            "13651                                    Project Grizzly\n",
            "14209                             Grave of the Fireflies\n",
            "14712                                         Off Limits\n",
            "14738      Martha Stewart Holidays: Classic Thanksgiving\n",
            "15234                           Fellini: I'm a Born Liar\n",
            "15816                                         The Corner\n",
            "16286                                  O: Bonus Material\n",
            "16707                              The Child I Never Was\n",
            "17725                                               Cats\n",
            "Name: Name, dtype: object\n"
          ],
          "name": "stdout"
        }
      ]
    },
    {
      "cell_type": "code",
      "metadata": {
        "id": "XLpdnWlty95y",
        "colab_type": "code",
        "colab": {
          "base_uri": "https://localhost:8080/",
          "height": 35
        },
        "outputId": "e088b979-2088-475a-9b7c-33d665a9c31b"
      },
      "source": [
        "train_pivot = pd.pivot_table(train,values='Rating',index='UserID',columns='MovieID')\n",
        "train_pivot.shape"
      ],
      "execution_count": 16,
      "outputs": [
        {
          "output_type": "execute_result",
          "data": {
            "text/plain": [
              "(28978, 1821)"
            ]
          },
          "metadata": {
            "tags": []
          },
          "execution_count": 16
        }
      ]
    },
    {
      "cell_type": "code",
      "metadata": {
        "id": "ATERBEVCy91q",
        "colab_type": "code",
        "colab": {
          "base_uri": "https://localhost:8080/",
          "height": 340
        },
        "outputId": "c2498516-53fd-4d3d-e71c-8d087e3539cd"
      },
      "source": [
        "train_pivot.describe()"
      ],
      "execution_count": 17,
      "outputs": [
        {
          "output_type": "execute_result",
          "data": {
            "text/html": [
              "<div>\n",
              "<style scoped>\n",
              "    .dataframe tbody tr th:only-of-type {\n",
              "        vertical-align: middle;\n",
              "    }\n",
              "\n",
              "    .dataframe tbody tr th {\n",
              "        vertical-align: top;\n",
              "    }\n",
              "\n",
              "    .dataframe thead th {\n",
              "        text-align: right;\n",
              "    }\n",
              "</style>\n",
              "<table border=\"1\" class=\"dataframe\">\n",
              "  <thead>\n",
              "    <tr style=\"text-align: right;\">\n",
              "      <th>MovieID</th>\n",
              "      <th>8</th>\n",
              "      <th>28</th>\n",
              "      <th>43</th>\n",
              "      <th>48</th>\n",
              "      <th>61</th>\n",
              "      <th>64</th>\n",
              "      <th>66</th>\n",
              "      <th>92</th>\n",
              "      <th>96</th>\n",
              "      <th>111</th>\n",
              "      <th>122</th>\n",
              "      <th>123</th>\n",
              "      <th>127</th>\n",
              "      <th>140</th>\n",
              "      <th>145</th>\n",
              "      <th>154</th>\n",
              "      <th>156</th>\n",
              "      <th>174</th>\n",
              "      <th>185</th>\n",
              "      <th>192</th>\n",
              "      <th>207</th>\n",
              "      <th>214</th>\n",
              "      <th>218</th>\n",
              "      <th>222</th>\n",
              "      <th>229</th>\n",
              "      <th>237</th>\n",
              "      <th>259</th>\n",
              "      <th>267</th>\n",
              "      <th>276</th>\n",
              "      <th>287</th>\n",
              "      <th>305</th>\n",
              "      <th>318</th>\n",
              "      <th>323</th>\n",
              "      <th>336</th>\n",
              "      <th>359</th>\n",
              "      <th>361</th>\n",
              "      <th>380</th>\n",
              "      <th>395</th>\n",
              "      <th>398</th>\n",
              "      <th>409</th>\n",
              "      <th>...</th>\n",
              "      <th>17337</th>\n",
              "      <th>17338</th>\n",
              "      <th>17344</th>\n",
              "      <th>17348</th>\n",
              "      <th>17358</th>\n",
              "      <th>17394</th>\n",
              "      <th>17411</th>\n",
              "      <th>17423</th>\n",
              "      <th>17447</th>\n",
              "      <th>17454</th>\n",
              "      <th>17466</th>\n",
              "      <th>17515</th>\n",
              "      <th>17522</th>\n",
              "      <th>17523</th>\n",
              "      <th>17534</th>\n",
              "      <th>17536</th>\n",
              "      <th>17551</th>\n",
              "      <th>17554</th>\n",
              "      <th>17556</th>\n",
              "      <th>17558</th>\n",
              "      <th>17561</th>\n",
              "      <th>17574</th>\n",
              "      <th>17616</th>\n",
              "      <th>17624</th>\n",
              "      <th>17626</th>\n",
              "      <th>17635</th>\n",
              "      <th>17640</th>\n",
              "      <th>17642</th>\n",
              "      <th>17650</th>\n",
              "      <th>17653</th>\n",
              "      <th>17654</th>\n",
              "      <th>17660</th>\n",
              "      <th>17689</th>\n",
              "      <th>17693</th>\n",
              "      <th>17706</th>\n",
              "      <th>17725</th>\n",
              "      <th>17728</th>\n",
              "      <th>17734</th>\n",
              "      <th>17741</th>\n",
              "      <th>17742</th>\n",
              "    </tr>\n",
              "  </thead>\n",
              "  <tbody>\n",
              "    <tr>\n",
              "      <th>count</th>\n",
              "      <td>2831.000000</td>\n",
              "      <td>12244.000000</td>\n",
              "      <td>58.000000</td>\n",
              "      <td>1666.000000</td>\n",
              "      <td>57.000000</td>\n",
              "      <td>45.000000</td>\n",
              "      <td>65.000000</td>\n",
              "      <td>67.000000</td>\n",
              "      <td>146.000000</td>\n",
              "      <td>8605.000000</td>\n",
              "      <td>1429.000000</td>\n",
              "      <td>106.000000</td>\n",
              "      <td>1781.000000</td>\n",
              "      <td>41.000000</td>\n",
              "      <td>141.000000</td>\n",
              "      <td>58.000000</td>\n",
              "      <td>3397.000000</td>\n",
              "      <td>119.000000</td>\n",
              "      <td>1617.000000</td>\n",
              "      <td>100.000000</td>\n",
              "      <td>59.000000</td>\n",
              "      <td>68.000000</td>\n",
              "      <td>37.000000</td>\n",
              "      <td>42.000000</td>\n",
              "      <td>202.000000</td>\n",
              "      <td>179.000000</td>\n",
              "      <td>219.000000</td>\n",
              "      <td>552.000000</td>\n",
              "      <td>60.000000</td>\n",
              "      <td>67.000000</td>\n",
              "      <td>6324.000000</td>\n",
              "      <td>43.000000</td>\n",
              "      <td>443.000000</td>\n",
              "      <td>101.000000</td>\n",
              "      <td>1938.000000</td>\n",
              "      <td>6843.000000</td>\n",
              "      <td>312.000000</td>\n",
              "      <td>977.000000</td>\n",
              "      <td>913.000000</td>\n",
              "      <td>243.000000</td>\n",
              "      <td>...</td>\n",
              "      <td>35.000000</td>\n",
              "      <td>2956.000000</td>\n",
              "      <td>141.000000</td>\n",
              "      <td>472.000000</td>\n",
              "      <td>6794.000000</td>\n",
              "      <td>110.000000</td>\n",
              "      <td>3423.000000</td>\n",
              "      <td>1920.000000</td>\n",
              "      <td>245.000000</td>\n",
              "      <td>245.000000</td>\n",
              "      <td>485.000000</td>\n",
              "      <td>108.000000</td>\n",
              "      <td>502.000000</td>\n",
              "      <td>95.000000</td>\n",
              "      <td>48.000000</td>\n",
              "      <td>1538.000000</td>\n",
              "      <td>98.000000</td>\n",
              "      <td>515.000000</td>\n",
              "      <td>331.000000</td>\n",
              "      <td>8032.000000</td>\n",
              "      <td>989.000000</td>\n",
              "      <td>6786.000000</td>\n",
              "      <td>53.000000</td>\n",
              "      <td>2144.000000</td>\n",
              "      <td>65.000000</td>\n",
              "      <td>212.000000</td>\n",
              "      <td>97.000000</td>\n",
              "      <td>964.000000</td>\n",
              "      <td>752.000000</td>\n",
              "      <td>1713.000000</td>\n",
              "      <td>2686.000000</td>\n",
              "      <td>30.000000</td>\n",
              "      <td>31.000000</td>\n",
              "      <td>2534.000000</td>\n",
              "      <td>122.000000</td>\n",
              "      <td>2003.000000</td>\n",
              "      <td>68.000000</td>\n",
              "      <td>41.000000</td>\n",
              "      <td>1020.000000</td>\n",
              "      <td>246.000000</td>\n",
              "    </tr>\n",
              "    <tr>\n",
              "      <th>mean</th>\n",
              "      <td>3.055104</td>\n",
              "      <td>3.760127</td>\n",
              "      <td>2.310345</td>\n",
              "      <td>3.620648</td>\n",
              "      <td>2.385965</td>\n",
              "      <td>2.466667</td>\n",
              "      <td>2.138462</td>\n",
              "      <td>3.089552</td>\n",
              "      <td>3.013699</td>\n",
              "      <td>3.037304</td>\n",
              "      <td>2.902729</td>\n",
              "      <td>2.764151</td>\n",
              "      <td>2.626614</td>\n",
              "      <td>2.390244</td>\n",
              "      <td>2.992908</td>\n",
              "      <td>2.758621</td>\n",
              "      <td>3.354725</td>\n",
              "      <td>2.899160</td>\n",
              "      <td>2.976500</td>\n",
              "      <td>3.000000</td>\n",
              "      <td>2.559322</td>\n",
              "      <td>2.647059</td>\n",
              "      <td>2.621622</td>\n",
              "      <td>2.309524</td>\n",
              "      <td>3.480198</td>\n",
              "      <td>3.385475</td>\n",
              "      <td>3.155251</td>\n",
              "      <td>3.570652</td>\n",
              "      <td>1.966667</td>\n",
              "      <td>2.940299</td>\n",
              "      <td>3.502688</td>\n",
              "      <td>2.465116</td>\n",
              "      <td>2.446953</td>\n",
              "      <td>3.019802</td>\n",
              "      <td>4.079979</td>\n",
              "      <td>3.569341</td>\n",
              "      <td>2.974359</td>\n",
              "      <td>3.936540</td>\n",
              "      <td>2.825849</td>\n",
              "      <td>3.518519</td>\n",
              "      <td>...</td>\n",
              "      <td>3.285714</td>\n",
              "      <td>3.101827</td>\n",
              "      <td>2.773050</td>\n",
              "      <td>3.677966</td>\n",
              "      <td>3.280836</td>\n",
              "      <td>2.672727</td>\n",
              "      <td>3.715162</td>\n",
              "      <td>3.526042</td>\n",
              "      <td>3.089796</td>\n",
              "      <td>3.040816</td>\n",
              "      <td>2.391753</td>\n",
              "      <td>3.675926</td>\n",
              "      <td>3.450199</td>\n",
              "      <td>3.273684</td>\n",
              "      <td>2.166667</td>\n",
              "      <td>3.965540</td>\n",
              "      <td>1.877551</td>\n",
              "      <td>2.996117</td>\n",
              "      <td>2.507553</td>\n",
              "      <td>3.345244</td>\n",
              "      <td>3.114257</td>\n",
              "      <td>3.442823</td>\n",
              "      <td>3.245283</td>\n",
              "      <td>3.399254</td>\n",
              "      <td>3.400000</td>\n",
              "      <td>2.976415</td>\n",
              "      <td>2.907216</td>\n",
              "      <td>3.624481</td>\n",
              "      <td>3.159574</td>\n",
              "      <td>3.213076</td>\n",
              "      <td>3.007446</td>\n",
              "      <td>2.466667</td>\n",
              "      <td>2.064516</td>\n",
              "      <td>2.869771</td>\n",
              "      <td>3.254098</td>\n",
              "      <td>3.431353</td>\n",
              "      <td>2.691176</td>\n",
              "      <td>2.926829</td>\n",
              "      <td>3.205882</td>\n",
              "      <td>2.768293</td>\n",
              "    </tr>\n",
              "    <tr>\n",
              "      <th>std</th>\n",
              "      <td>1.282858</td>\n",
              "      <td>0.979763</td>\n",
              "      <td>1.216940</td>\n",
              "      <td>1.097704</td>\n",
              "      <td>1.305953</td>\n",
              "      <td>1.198484</td>\n",
              "      <td>0.949949</td>\n",
              "      <td>1.694298</td>\n",
              "      <td>1.248372</td>\n",
              "      <td>0.977729</td>\n",
              "      <td>1.030854</td>\n",
              "      <td>0.889643</td>\n",
              "      <td>1.069153</td>\n",
              "      <td>0.971546</td>\n",
              "      <td>1.180172</td>\n",
              "      <td>1.260887</td>\n",
              "      <td>1.018896</td>\n",
              "      <td>1.237788</td>\n",
              "      <td>1.134819</td>\n",
              "      <td>1.318095</td>\n",
              "      <td>1.207322</td>\n",
              "      <td>1.346801</td>\n",
              "      <td>1.515684</td>\n",
              "      <td>1.115043</td>\n",
              "      <td>1.250713</td>\n",
              "      <td>1.209518</td>\n",
              "      <td>1.076695</td>\n",
              "      <td>1.381262</td>\n",
              "      <td>0.973665</td>\n",
              "      <td>1.335762</td>\n",
              "      <td>0.978089</td>\n",
              "      <td>1.008271</td>\n",
              "      <td>1.150942</td>\n",
              "      <td>1.009754</td>\n",
              "      <td>1.106745</td>\n",
              "      <td>1.159197</td>\n",
              "      <td>0.951889</td>\n",
              "      <td>0.863695</td>\n",
              "      <td>1.121613</td>\n",
              "      <td>1.165387</td>\n",
              "      <td>...</td>\n",
              "      <td>1.202239</td>\n",
              "      <td>0.981789</td>\n",
              "      <td>1.016779</td>\n",
              "      <td>1.233856</td>\n",
              "      <td>0.900804</td>\n",
              "      <td>1.067528</td>\n",
              "      <td>0.913450</td>\n",
              "      <td>0.997312</td>\n",
              "      <td>1.044157</td>\n",
              "      <td>1.176254</td>\n",
              "      <td>0.984977</td>\n",
              "      <td>1.399791</td>\n",
              "      <td>0.948005</td>\n",
              "      <td>1.417535</td>\n",
              "      <td>1.373508</td>\n",
              "      <td>1.023845</td>\n",
              "      <td>0.922405</td>\n",
              "      <td>1.153570</td>\n",
              "      <td>1.173871</td>\n",
              "      <td>0.971236</td>\n",
              "      <td>0.998019</td>\n",
              "      <td>0.993295</td>\n",
              "      <td>0.958879</td>\n",
              "      <td>1.074074</td>\n",
              "      <td>1.308625</td>\n",
              "      <td>1.153774</td>\n",
              "      <td>1.208326</td>\n",
              "      <td>1.215196</td>\n",
              "      <td>0.970161</td>\n",
              "      <td>0.980900</td>\n",
              "      <td>1.094740</td>\n",
              "      <td>1.195778</td>\n",
              "      <td>1.062559</td>\n",
              "      <td>1.055324</td>\n",
              "      <td>1.314644</td>\n",
              "      <td>1.118215</td>\n",
              "      <td>1.187715</td>\n",
              "      <td>1.104315</td>\n",
              "      <td>1.048746</td>\n",
              "      <td>0.925363</td>\n",
              "    </tr>\n",
              "    <tr>\n",
              "      <th>min</th>\n",
              "      <td>1.000000</td>\n",
              "      <td>1.000000</td>\n",
              "      <td>1.000000</td>\n",
              "      <td>1.000000</td>\n",
              "      <td>1.000000</td>\n",
              "      <td>1.000000</td>\n",
              "      <td>1.000000</td>\n",
              "      <td>1.000000</td>\n",
              "      <td>1.000000</td>\n",
              "      <td>1.000000</td>\n",
              "      <td>1.000000</td>\n",
              "      <td>1.000000</td>\n",
              "      <td>1.000000</td>\n",
              "      <td>1.000000</td>\n",
              "      <td>1.000000</td>\n",
              "      <td>1.000000</td>\n",
              "      <td>1.000000</td>\n",
              "      <td>1.000000</td>\n",
              "      <td>1.000000</td>\n",
              "      <td>1.000000</td>\n",
              "      <td>1.000000</td>\n",
              "      <td>1.000000</td>\n",
              "      <td>1.000000</td>\n",
              "      <td>1.000000</td>\n",
              "      <td>1.000000</td>\n",
              "      <td>1.000000</td>\n",
              "      <td>1.000000</td>\n",
              "      <td>1.000000</td>\n",
              "      <td>1.000000</td>\n",
              "      <td>1.000000</td>\n",
              "      <td>1.000000</td>\n",
              "      <td>1.000000</td>\n",
              "      <td>1.000000</td>\n",
              "      <td>1.000000</td>\n",
              "      <td>1.000000</td>\n",
              "      <td>1.000000</td>\n",
              "      <td>1.000000</td>\n",
              "      <td>1.000000</td>\n",
              "      <td>1.000000</td>\n",
              "      <td>1.000000</td>\n",
              "      <td>...</td>\n",
              "      <td>1.000000</td>\n",
              "      <td>1.000000</td>\n",
              "      <td>1.000000</td>\n",
              "      <td>1.000000</td>\n",
              "      <td>1.000000</td>\n",
              "      <td>1.000000</td>\n",
              "      <td>1.000000</td>\n",
              "      <td>1.000000</td>\n",
              "      <td>1.000000</td>\n",
              "      <td>1.000000</td>\n",
              "      <td>1.000000</td>\n",
              "      <td>1.000000</td>\n",
              "      <td>1.000000</td>\n",
              "      <td>1.000000</td>\n",
              "      <td>1.000000</td>\n",
              "      <td>1.000000</td>\n",
              "      <td>1.000000</td>\n",
              "      <td>1.000000</td>\n",
              "      <td>1.000000</td>\n",
              "      <td>1.000000</td>\n",
              "      <td>1.000000</td>\n",
              "      <td>1.000000</td>\n",
              "      <td>1.000000</td>\n",
              "      <td>1.000000</td>\n",
              "      <td>1.000000</td>\n",
              "      <td>1.000000</td>\n",
              "      <td>1.000000</td>\n",
              "      <td>1.000000</td>\n",
              "      <td>1.000000</td>\n",
              "      <td>1.000000</td>\n",
              "      <td>1.000000</td>\n",
              "      <td>1.000000</td>\n",
              "      <td>1.000000</td>\n",
              "      <td>1.000000</td>\n",
              "      <td>1.000000</td>\n",
              "      <td>1.000000</td>\n",
              "      <td>1.000000</td>\n",
              "      <td>1.000000</td>\n",
              "      <td>1.000000</td>\n",
              "      <td>1.000000</td>\n",
              "    </tr>\n",
              "    <tr>\n",
              "      <th>25%</th>\n",
              "      <td>2.000000</td>\n",
              "      <td>3.000000</td>\n",
              "      <td>1.000000</td>\n",
              "      <td>3.000000</td>\n",
              "      <td>1.000000</td>\n",
              "      <td>1.000000</td>\n",
              "      <td>2.000000</td>\n",
              "      <td>1.000000</td>\n",
              "      <td>2.000000</td>\n",
              "      <td>2.000000</td>\n",
              "      <td>2.000000</td>\n",
              "      <td>2.000000</td>\n",
              "      <td>2.000000</td>\n",
              "      <td>2.000000</td>\n",
              "      <td>2.000000</td>\n",
              "      <td>2.000000</td>\n",
              "      <td>3.000000</td>\n",
              "      <td>2.000000</td>\n",
              "      <td>2.000000</td>\n",
              "      <td>2.000000</td>\n",
              "      <td>1.500000</td>\n",
              "      <td>1.750000</td>\n",
              "      <td>1.000000</td>\n",
              "      <td>2.000000</td>\n",
              "      <td>3.000000</td>\n",
              "      <td>3.000000</td>\n",
              "      <td>3.000000</td>\n",
              "      <td>3.000000</td>\n",
              "      <td>1.000000</td>\n",
              "      <td>2.000000</td>\n",
              "      <td>3.000000</td>\n",
              "      <td>2.000000</td>\n",
              "      <td>1.000000</td>\n",
              "      <td>2.000000</td>\n",
              "      <td>4.000000</td>\n",
              "      <td>3.000000</td>\n",
              "      <td>3.000000</td>\n",
              "      <td>3.000000</td>\n",
              "      <td>2.000000</td>\n",
              "      <td>3.000000</td>\n",
              "      <td>...</td>\n",
              "      <td>3.000000</td>\n",
              "      <td>3.000000</td>\n",
              "      <td>2.000000</td>\n",
              "      <td>3.000000</td>\n",
              "      <td>3.000000</td>\n",
              "      <td>2.000000</td>\n",
              "      <td>3.000000</td>\n",
              "      <td>3.000000</td>\n",
              "      <td>3.000000</td>\n",
              "      <td>2.000000</td>\n",
              "      <td>2.000000</td>\n",
              "      <td>3.000000</td>\n",
              "      <td>3.000000</td>\n",
              "      <td>2.000000</td>\n",
              "      <td>1.000000</td>\n",
              "      <td>3.000000</td>\n",
              "      <td>1.000000</td>\n",
              "      <td>2.000000</td>\n",
              "      <td>1.000000</td>\n",
              "      <td>3.000000</td>\n",
              "      <td>3.000000</td>\n",
              "      <td>3.000000</td>\n",
              "      <td>3.000000</td>\n",
              "      <td>3.000000</td>\n",
              "      <td>3.000000</td>\n",
              "      <td>2.000000</td>\n",
              "      <td>2.000000</td>\n",
              "      <td>3.000000</td>\n",
              "      <td>3.000000</td>\n",
              "      <td>3.000000</td>\n",
              "      <td>2.000000</td>\n",
              "      <td>1.000000</td>\n",
              "      <td>1.000000</td>\n",
              "      <td>2.000000</td>\n",
              "      <td>2.250000</td>\n",
              "      <td>3.000000</td>\n",
              "      <td>2.000000</td>\n",
              "      <td>2.000000</td>\n",
              "      <td>3.000000</td>\n",
              "      <td>2.000000</td>\n",
              "    </tr>\n",
              "    <tr>\n",
              "      <th>50%</th>\n",
              "      <td>3.000000</td>\n",
              "      <td>4.000000</td>\n",
              "      <td>2.000000</td>\n",
              "      <td>4.000000</td>\n",
              "      <td>3.000000</td>\n",
              "      <td>3.000000</td>\n",
              "      <td>2.000000</td>\n",
              "      <td>4.000000</td>\n",
              "      <td>3.000000</td>\n",
              "      <td>3.000000</td>\n",
              "      <td>3.000000</td>\n",
              "      <td>3.000000</td>\n",
              "      <td>3.000000</td>\n",
              "      <td>3.000000</td>\n",
              "      <td>3.000000</td>\n",
              "      <td>3.000000</td>\n",
              "      <td>3.000000</td>\n",
              "      <td>3.000000</td>\n",
              "      <td>3.000000</td>\n",
              "      <td>3.000000</td>\n",
              "      <td>3.000000</td>\n",
              "      <td>3.000000</td>\n",
              "      <td>2.000000</td>\n",
              "      <td>2.000000</td>\n",
              "      <td>4.000000</td>\n",
              "      <td>3.000000</td>\n",
              "      <td>3.000000</td>\n",
              "      <td>4.000000</td>\n",
              "      <td>2.000000</td>\n",
              "      <td>3.000000</td>\n",
              "      <td>4.000000</td>\n",
              "      <td>3.000000</td>\n",
              "      <td>2.000000</td>\n",
              "      <td>3.000000</td>\n",
              "      <td>4.000000</td>\n",
              "      <td>4.000000</td>\n",
              "      <td>3.000000</td>\n",
              "      <td>4.000000</td>\n",
              "      <td>3.000000</td>\n",
              "      <td>4.000000</td>\n",
              "      <td>...</td>\n",
              "      <td>3.000000</td>\n",
              "      <td>3.000000</td>\n",
              "      <td>3.000000</td>\n",
              "      <td>4.000000</td>\n",
              "      <td>3.000000</td>\n",
              "      <td>3.000000</td>\n",
              "      <td>4.000000</td>\n",
              "      <td>4.000000</td>\n",
              "      <td>3.000000</td>\n",
              "      <td>3.000000</td>\n",
              "      <td>2.000000</td>\n",
              "      <td>4.000000</td>\n",
              "      <td>3.000000</td>\n",
              "      <td>3.000000</td>\n",
              "      <td>2.000000</td>\n",
              "      <td>4.000000</td>\n",
              "      <td>2.000000</td>\n",
              "      <td>3.000000</td>\n",
              "      <td>3.000000</td>\n",
              "      <td>3.000000</td>\n",
              "      <td>3.000000</td>\n",
              "      <td>3.000000</td>\n",
              "      <td>3.000000</td>\n",
              "      <td>3.000000</td>\n",
              "      <td>4.000000</td>\n",
              "      <td>3.000000</td>\n",
              "      <td>3.000000</td>\n",
              "      <td>4.000000</td>\n",
              "      <td>3.000000</td>\n",
              "      <td>3.000000</td>\n",
              "      <td>3.000000</td>\n",
              "      <td>3.000000</td>\n",
              "      <td>2.000000</td>\n",
              "      <td>3.000000</td>\n",
              "      <td>3.000000</td>\n",
              "      <td>4.000000</td>\n",
              "      <td>3.000000</td>\n",
              "      <td>3.000000</td>\n",
              "      <td>3.000000</td>\n",
              "      <td>3.000000</td>\n",
              "    </tr>\n",
              "    <tr>\n",
              "      <th>75%</th>\n",
              "      <td>4.000000</td>\n",
              "      <td>4.000000</td>\n",
              "      <td>3.000000</td>\n",
              "      <td>4.000000</td>\n",
              "      <td>3.000000</td>\n",
              "      <td>3.000000</td>\n",
              "      <td>3.000000</td>\n",
              "      <td>5.000000</td>\n",
              "      <td>4.000000</td>\n",
              "      <td>4.000000</td>\n",
              "      <td>4.000000</td>\n",
              "      <td>3.000000</td>\n",
              "      <td>3.000000</td>\n",
              "      <td>3.000000</td>\n",
              "      <td>4.000000</td>\n",
              "      <td>4.000000</td>\n",
              "      <td>4.000000</td>\n",
              "      <td>4.000000</td>\n",
              "      <td>4.000000</td>\n",
              "      <td>4.000000</td>\n",
              "      <td>3.000000</td>\n",
              "      <td>3.000000</td>\n",
              "      <td>4.000000</td>\n",
              "      <td>3.000000</td>\n",
              "      <td>4.000000</td>\n",
              "      <td>4.000000</td>\n",
              "      <td>4.000000</td>\n",
              "      <td>5.000000</td>\n",
              "      <td>2.000000</td>\n",
              "      <td>4.000000</td>\n",
              "      <td>4.000000</td>\n",
              "      <td>3.000000</td>\n",
              "      <td>3.000000</td>\n",
              "      <td>4.000000</td>\n",
              "      <td>5.000000</td>\n",
              "      <td>5.000000</td>\n",
              "      <td>3.250000</td>\n",
              "      <td>5.000000</td>\n",
              "      <td>4.000000</td>\n",
              "      <td>4.500000</td>\n",
              "      <td>...</td>\n",
              "      <td>4.000000</td>\n",
              "      <td>4.000000</td>\n",
              "      <td>3.000000</td>\n",
              "      <td>5.000000</td>\n",
              "      <td>4.000000</td>\n",
              "      <td>3.000000</td>\n",
              "      <td>4.000000</td>\n",
              "      <td>4.000000</td>\n",
              "      <td>4.000000</td>\n",
              "      <td>4.000000</td>\n",
              "      <td>3.000000</td>\n",
              "      <td>5.000000</td>\n",
              "      <td>4.000000</td>\n",
              "      <td>4.000000</td>\n",
              "      <td>3.000000</td>\n",
              "      <td>5.000000</td>\n",
              "      <td>2.000000</td>\n",
              "      <td>4.000000</td>\n",
              "      <td>3.000000</td>\n",
              "      <td>4.000000</td>\n",
              "      <td>4.000000</td>\n",
              "      <td>4.000000</td>\n",
              "      <td>4.000000</td>\n",
              "      <td>4.000000</td>\n",
              "      <td>4.000000</td>\n",
              "      <td>4.000000</td>\n",
              "      <td>4.000000</td>\n",
              "      <td>5.000000</td>\n",
              "      <td>4.000000</td>\n",
              "      <td>4.000000</td>\n",
              "      <td>4.000000</td>\n",
              "      <td>3.000000</td>\n",
              "      <td>3.000000</td>\n",
              "      <td>4.000000</td>\n",
              "      <td>4.000000</td>\n",
              "      <td>4.000000</td>\n",
              "      <td>4.000000</td>\n",
              "      <td>4.000000</td>\n",
              "      <td>4.000000</td>\n",
              "      <td>3.000000</td>\n",
              "    </tr>\n",
              "    <tr>\n",
              "      <th>max</th>\n",
              "      <td>5.000000</td>\n",
              "      <td>5.000000</td>\n",
              "      <td>5.000000</td>\n",
              "      <td>5.000000</td>\n",
              "      <td>5.000000</td>\n",
              "      <td>5.000000</td>\n",
              "      <td>5.000000</td>\n",
              "      <td>5.000000</td>\n",
              "      <td>5.000000</td>\n",
              "      <td>5.000000</td>\n",
              "      <td>5.000000</td>\n",
              "      <td>5.000000</td>\n",
              "      <td>5.000000</td>\n",
              "      <td>5.000000</td>\n",
              "      <td>5.000000</td>\n",
              "      <td>5.000000</td>\n",
              "      <td>5.000000</td>\n",
              "      <td>5.000000</td>\n",
              "      <td>5.000000</td>\n",
              "      <td>5.000000</td>\n",
              "      <td>5.000000</td>\n",
              "      <td>5.000000</td>\n",
              "      <td>5.000000</td>\n",
              "      <td>5.000000</td>\n",
              "      <td>5.000000</td>\n",
              "      <td>5.000000</td>\n",
              "      <td>5.000000</td>\n",
              "      <td>5.000000</td>\n",
              "      <td>5.000000</td>\n",
              "      <td>5.000000</td>\n",
              "      <td>5.000000</td>\n",
              "      <td>5.000000</td>\n",
              "      <td>5.000000</td>\n",
              "      <td>5.000000</td>\n",
              "      <td>5.000000</td>\n",
              "      <td>5.000000</td>\n",
              "      <td>5.000000</td>\n",
              "      <td>5.000000</td>\n",
              "      <td>5.000000</td>\n",
              "      <td>5.000000</td>\n",
              "      <td>...</td>\n",
              "      <td>5.000000</td>\n",
              "      <td>5.000000</td>\n",
              "      <td>5.000000</td>\n",
              "      <td>5.000000</td>\n",
              "      <td>5.000000</td>\n",
              "      <td>5.000000</td>\n",
              "      <td>5.000000</td>\n",
              "      <td>5.000000</td>\n",
              "      <td>5.000000</td>\n",
              "      <td>5.000000</td>\n",
              "      <td>5.000000</td>\n",
              "      <td>5.000000</td>\n",
              "      <td>5.000000</td>\n",
              "      <td>5.000000</td>\n",
              "      <td>5.000000</td>\n",
              "      <td>5.000000</td>\n",
              "      <td>5.000000</td>\n",
              "      <td>5.000000</td>\n",
              "      <td>5.000000</td>\n",
              "      <td>5.000000</td>\n",
              "      <td>5.000000</td>\n",
              "      <td>5.000000</td>\n",
              "      <td>5.000000</td>\n",
              "      <td>5.000000</td>\n",
              "      <td>5.000000</td>\n",
              "      <td>5.000000</td>\n",
              "      <td>5.000000</td>\n",
              "      <td>5.000000</td>\n",
              "      <td>5.000000</td>\n",
              "      <td>5.000000</td>\n",
              "      <td>5.000000</td>\n",
              "      <td>5.000000</td>\n",
              "      <td>5.000000</td>\n",
              "      <td>5.000000</td>\n",
              "      <td>5.000000</td>\n",
              "      <td>5.000000</td>\n",
              "      <td>5.000000</td>\n",
              "      <td>5.000000</td>\n",
              "      <td>5.000000</td>\n",
              "      <td>5.000000</td>\n",
              "    </tr>\n",
              "  </tbody>\n",
              "</table>\n",
              "<p>8 rows × 1821 columns</p>\n",
              "</div>"
            ],
            "text/plain": [
              "MovieID        8             28     ...        17741       17742\n",
              "count    2831.000000  12244.000000  ...  1020.000000  246.000000\n",
              "mean        3.055104      3.760127  ...     3.205882    2.768293\n",
              "std         1.282858      0.979763  ...     1.048746    0.925363\n",
              "min         1.000000      1.000000  ...     1.000000    1.000000\n",
              "25%         2.000000      3.000000  ...     3.000000    2.000000\n",
              "50%         3.000000      4.000000  ...     3.000000    3.000000\n",
              "75%         4.000000      4.000000  ...     4.000000    3.000000\n",
              "max         5.000000      5.000000  ...     5.000000    5.000000\n",
              "\n",
              "[8 rows x 1821 columns]"
            ]
          },
          "metadata": {
            "tags": []
          },
          "execution_count": 17
        }
      ]
    },
    {
      "cell_type": "markdown",
      "metadata": {
        "id": "RGz4K2sM7ei5",
        "colab_type": "text"
      },
      "source": [
        "## **Problem 3: Collaborative Filtering Implementation**"
      ]
    },
    {
      "cell_type": "code",
      "metadata": {
        "id": "XQfNpAs46-hY",
        "colab_type": "code",
        "colab": {
          "base_uri": "https://localhost:8080/",
          "height": 124
        },
        "outputId": "2c99a53e-e339-4cc9-8404-b6fd857eab7e"
      },
      "source": [
        "!pip install surprise"
      ],
      "execution_count": 18,
      "outputs": [
        {
          "output_type": "stream",
          "text": [
            "Requirement already satisfied: surprise in /usr/local/lib/python3.6/dist-packages (0.1)\n",
            "Requirement already satisfied: scikit-surprise in /usr/local/lib/python3.6/dist-packages (from surprise) (1.1.0)\n",
            "Requirement already satisfied: scipy>=1.0.0 in /usr/local/lib/python3.6/dist-packages (from scikit-surprise->surprise) (1.4.1)\n",
            "Requirement already satisfied: joblib>=0.11 in /usr/local/lib/python3.6/dist-packages (from scikit-surprise->surprise) (0.14.1)\n",
            "Requirement already satisfied: six>=1.10.0 in /usr/local/lib/python3.6/dist-packages (from scikit-surprise->surprise) (1.12.0)\n",
            "Requirement already satisfied: numpy>=1.11.2 in /usr/local/lib/python3.6/dist-packages (from scikit-surprise->surprise) (1.18.4)\n"
          ],
          "name": "stdout"
        }
      ]
    },
    {
      "cell_type": "code",
      "metadata": {
        "id": "eP1_te3FAWqb",
        "colab_type": "code",
        "colab": {}
      },
      "source": [
        "from surprise import Reader, Dataset, accuracy\n",
        "from surprise.model_selection import cross_validate"
      ],
      "execution_count": 0,
      "outputs": []
    },
    {
      "cell_type": "code",
      "metadata": {
        "id": "--gQdOS6FbDp",
        "colab_type": "code",
        "colab": {}
      },
      "source": [
        "results = []"
      ],
      "execution_count": 0,
      "outputs": []
    },
    {
      "cell_type": "code",
      "metadata": {
        "id": "w29EohR-Bioz",
        "colab_type": "code",
        "colab": {}
      },
      "source": [
        "reader = Reader(rating_scale=(1,5))\n",
        "\n",
        "data = Dataset.load_from_df(train[[ 'MovieID','UserID','Rating']][:100000], reader)\n",
        "#trainset, testset = train_test_split(data, test_size=.25)\n",
        "trainset = data.build_full_trainset()"
      ],
      "execution_count": 0,
      "outputs": []
    },
    {
      "cell_type": "markdown",
      "metadata": {
        "id": "BmKe3W7nIrTI",
        "colab_type": "text"
      },
      "source": [
        "**SVD Model**"
      ]
    },
    {
      "cell_type": "code",
      "metadata": {
        "id": "ifkj3t0my9-G",
        "colab_type": "code",
        "colab": {
          "base_uri": "https://localhost:8080/",
          "height": 35
        },
        "outputId": "551429ee-9f0e-449e-9ee0-c50ee2709bf8"
      },
      "source": [
        "#SVD Model\n",
        "from surprise import SVD\n",
        "algo1 = SVD()\n",
        "algo1.fit(trainset)"
      ],
      "execution_count": 23,
      "outputs": [
        {
          "output_type": "execute_result",
          "data": {
            "text/plain": [
              "<surprise.prediction_algorithms.matrix_factorization.SVD at 0x7f9b7abee908>"
            ]
          },
          "metadata": {
            "tags": []
          },
          "execution_count": 23
        }
      ]
    },
    {
      "cell_type": "code",
      "metadata": {
        "id": "5vpWy3qKAMi4",
        "colab_type": "code",
        "colab": {
          "base_uri": "https://localhost:8080/",
          "height": 355
        },
        "outputId": "55279045-d387-44ba-ab0b-6dcf7c6a75b4"
      },
      "source": [
        "# Run 5-fold cross-validation and then print results\n",
        "svd = cross_validate(algo1, data, measures=['RMSE', 'MAE'], cv=5, verbose=True)\n",
        "svd"
      ],
      "execution_count": 26,
      "outputs": [
        {
          "output_type": "stream",
          "text": [
            "Evaluating RMSE, MAE of algorithm SVD on 5 split(s).\n",
            "\n",
            "                  Fold 1  Fold 2  Fold 3  Fold 4  Fold 5  Mean    Std     \n",
            "RMSE (testset)    0.9990  0.9909  0.9854  0.9947  0.9933  0.9927  0.0045  \n",
            "MAE (testset)     0.7929  0.7858  0.7805  0.7886  0.7862  0.7868  0.0041  \n",
            "Fit time          4.39    4.48    4.35    4.31    4.38    4.38    0.06    \n",
            "Test time         0.24    0.13    0.13    0.14    0.23    0.17    0.05    \n"
          ],
          "name": "stdout"
        },
        {
          "output_type": "execute_result",
          "data": {
            "text/plain": [
              "{'fit_time': (4.38528847694397,\n",
              "  4.482245922088623,\n",
              "  4.352317810058594,\n",
              "  4.311546087265015,\n",
              "  4.38419246673584),\n",
              " 'test_mae': array([0.79294374, 0.78575855, 0.78045018, 0.78856928, 0.78621783]),\n",
              " 'test_rmse': array([0.99901304, 0.99085052, 0.9854397 , 0.99471545, 0.99329606]),\n",
              " 'test_time': (0.2404794692993164,\n",
              "  0.1331629753112793,\n",
              "  0.12585735321044922,\n",
              "  0.1353905200958252,\n",
              "  0.23271512985229492)}"
            ]
          },
          "metadata": {
            "tags": []
          },
          "execution_count": 26
        }
      ]
    },
    {
      "cell_type": "code",
      "metadata": {
        "id": "QxbMdh3iBIMa",
        "colab_type": "code",
        "colab": {}
      },
      "source": [
        "#storing the results\n",
        "svd_df = pd.DataFrame.from_dict(svd).mean(axis=0)\n",
        "svd_df = svd_df.append(pd.Series(['SVD'], index = ['Model']))\n",
        "results.append(svd_df)"
      ],
      "execution_count": 0,
      "outputs": []
    },
    {
      "cell_type": "markdown",
      "metadata": {
        "id": "sEPSZiLRIxMf",
        "colab_type": "text"
      },
      "source": [
        "**KNNBasic Model**"
      ]
    },
    {
      "cell_type": "code",
      "metadata": {
        "id": "ohxLQFg0shVl",
        "colab_type": "code",
        "colab": {
          "base_uri": "https://localhost:8080/",
          "height": 70
        },
        "outputId": "06500c2d-4261-4628-c79f-489788e35e33"
      },
      "source": [
        "#KNNBasic model\n",
        "from surprise import KNNBasic\n",
        "bsl_options = {'method': 'als',\n",
        "               'n_epochs': 20,\n",
        "               }\n",
        "algo2 = KNNBasic(bsl_options=bsl_options)\n",
        "algo2.fit(trainset)"
      ],
      "execution_count": 28,
      "outputs": [
        {
          "output_type": "stream",
          "text": [
            "Computing the msd similarity matrix...\n",
            "Done computing similarity matrix.\n"
          ],
          "name": "stdout"
        },
        {
          "output_type": "execute_result",
          "data": {
            "text/plain": [
              "<surprise.prediction_algorithms.knns.KNNBasic at 0x7f9b7ac50eb8>"
            ]
          },
          "metadata": {
            "tags": []
          },
          "execution_count": 28
        }
      ]
    },
    {
      "cell_type": "code",
      "metadata": {
        "colab_type": "code",
        "outputId": "ff2ed478-aa46-4bb7-d4ed-e81885e3af6e",
        "id": "mfrPwFS6G6nO",
        "colab": {
          "base_uri": "https://localhost:8080/",
          "height": 532
        }
      },
      "source": [
        "# Run 5-fold cross-validation and then print results\n",
        "basic = cross_validate(algo2, data, measures=['RMSE', 'MAE'], cv=5, verbose=True)\n",
        "basic"
      ],
      "execution_count": 29,
      "outputs": [
        {
          "output_type": "stream",
          "text": [
            "Computing the msd similarity matrix...\n",
            "Done computing similarity matrix.\n",
            "Computing the msd similarity matrix...\n",
            "Done computing similarity matrix.\n",
            "Computing the msd similarity matrix...\n",
            "Done computing similarity matrix.\n",
            "Computing the msd similarity matrix...\n",
            "Done computing similarity matrix.\n",
            "Computing the msd similarity matrix...\n",
            "Done computing similarity matrix.\n",
            "Evaluating RMSE, MAE of algorithm KNNBasic on 5 split(s).\n",
            "\n",
            "                  Fold 1  Fold 2  Fold 3  Fold 4  Fold 5  Mean    Std     \n",
            "RMSE (testset)    1.1509  1.1573  1.1641  1.1552  1.1614  1.1578  0.0046  \n",
            "MAE (testset)     0.8869  0.8932  0.8981  0.8888  0.8947  0.8924  0.0040  \n",
            "Fit time          0.01    0.03    0.03    0.03    0.03    0.03    0.01    \n",
            "Test time         0.36    0.24    0.22    0.36    0.25    0.29    0.06    \n"
          ],
          "name": "stdout"
        },
        {
          "output_type": "execute_result",
          "data": {
            "text/plain": [
              "{'fit_time': (0.013135671615600586,\n",
              "  0.033365488052368164,\n",
              "  0.0333867073059082,\n",
              "  0.03391838073730469,\n",
              "  0.033263444900512695),\n",
              " 'test_mae': array([0.88694215, 0.89321006, 0.89805615, 0.88882871, 0.89472959]),\n",
              " 'test_rmse': array([1.15094658, 1.1573207 , 1.16409794, 1.15524554, 1.16137992]),\n",
              " 'test_time': (0.36482834815979004,\n",
              "  0.2434403896331787,\n",
              "  0.2236182689666748,\n",
              "  0.3562657833099365,\n",
              "  0.24852442741394043)}"
            ]
          },
          "metadata": {
            "tags": []
          },
          "execution_count": 29
        }
      ]
    },
    {
      "cell_type": "code",
      "metadata": {
        "colab_type": "code",
        "id": "kMeNPZTZG6ni",
        "colab": {}
      },
      "source": [
        "#storing the results\n",
        "basic_df = pd.DataFrame.from_dict(basic).mean(axis=0)\n",
        "basic_df = basic_df.append(pd.Series(['KNNBasic'], index = ['Model']))\n",
        "results.append(basic_df)"
      ],
      "execution_count": 0,
      "outputs": []
    },
    {
      "cell_type": "markdown",
      "metadata": {
        "id": "rnMBtx0EI9AB",
        "colab_type": "text"
      },
      "source": [
        "**KNNBaseline Model**"
      ]
    },
    {
      "cell_type": "code",
      "metadata": {
        "id": "rD720eZhGhww",
        "colab_type": "code",
        "colab": {
          "base_uri": "https://localhost:8080/",
          "height": 88
        },
        "outputId": "51e23728-ddba-4c32-9a02-c13ac07116c1"
      },
      "source": [
        "#KNNBaseline model\n",
        "from surprise import KNNBaseline\n",
        "from surprise import KNNBasic\n",
        "bsl_options = {'method': 'sgd',\n",
        "               'n_epochs': 20,\n",
        "               }\n",
        "algo3 = KNNBaseline(bsl_options=bsl_options)\n",
        "algo3.fit(trainset)"
      ],
      "execution_count": 33,
      "outputs": [
        {
          "output_type": "stream",
          "text": [
            "Estimating biases using sgd...\n",
            "Computing the msd similarity matrix...\n",
            "Done computing similarity matrix.\n"
          ],
          "name": "stdout"
        },
        {
          "output_type": "execute_result",
          "data": {
            "text/plain": [
              "<surprise.prediction_algorithms.knns.KNNBaseline at 0x7f9b7ac84dd8>"
            ]
          },
          "metadata": {
            "tags": []
          },
          "execution_count": 33
        }
      ]
    },
    {
      "cell_type": "code",
      "metadata": {
        "colab_type": "code",
        "outputId": "56e261de-db09-4311-df13-7f6cf63ba9f9",
        "id": "mQEhwwKoG9aO",
        "colab": {
          "base_uri": "https://localhost:8080/",
          "height": 621
        }
      },
      "source": [
        "# Run 5-fold cross-validation and then print results\n",
        "line = cross_validate(algo3, data, measures=['RMSE', 'MAE'], cv=5, verbose=True)\n",
        "line"
      ],
      "execution_count": 34,
      "outputs": [
        {
          "output_type": "stream",
          "text": [
            "Estimating biases using sgd...\n",
            "Computing the msd similarity matrix...\n",
            "Done computing similarity matrix.\n",
            "Estimating biases using sgd...\n",
            "Computing the msd similarity matrix...\n",
            "Done computing similarity matrix.\n",
            "Estimating biases using sgd...\n",
            "Computing the msd similarity matrix...\n",
            "Done computing similarity matrix.\n",
            "Estimating biases using sgd...\n",
            "Computing the msd similarity matrix...\n",
            "Done computing similarity matrix.\n",
            "Estimating biases using sgd...\n",
            "Computing the msd similarity matrix...\n",
            "Done computing similarity matrix.\n",
            "Evaluating RMSE, MAE of algorithm KNNBaseline on 5 split(s).\n",
            "\n",
            "                  Fold 1  Fold 2  Fold 3  Fold 4  Fold 5  Mean    Std     \n",
            "RMSE (testset)    1.0670  1.0715  1.0622  1.0553  1.0654  1.0643  0.0054  \n",
            "MAE (testset)     0.8222  0.8299  0.8196  0.8162  0.8244  0.8225  0.0046  \n",
            "Fit time          0.25    0.28    0.28    0.31    0.29    0.28    0.02    \n",
            "Test time         0.32    0.47    0.31    0.46    0.32    0.38    0.07    \n"
          ],
          "name": "stdout"
        },
        {
          "output_type": "execute_result",
          "data": {
            "text/plain": [
              "{'fit_time': (0.2506563663482666,\n",
              "  0.27977991104125977,\n",
              "  0.27826762199401855,\n",
              "  0.3060760498046875,\n",
              "  0.28669261932373047),\n",
              " 'test_mae': array([0.82219316, 0.82986171, 0.81962939, 0.81620185, 0.82442852]),\n",
              " 'test_rmse': array([1.06701539, 1.07146791, 1.06215629, 1.05528087, 1.06539398]),\n",
              " 'test_time': (0.32434654235839844,\n",
              "  0.47165679931640625,\n",
              "  0.30911803245544434,\n",
              "  0.46346092224121094,\n",
              "  0.31964778900146484)}"
            ]
          },
          "metadata": {
            "tags": []
          },
          "execution_count": 34
        }
      ]
    },
    {
      "cell_type": "code",
      "metadata": {
        "id": "5ycrgLovJDyW",
        "colab_type": "code",
        "colab": {}
      },
      "source": [
        "#storing the results\n",
        "line_df = pd.DataFrame.from_dict(line).mean(axis=0)\n",
        "line_df = line_df.append(pd.Series(['KNNBaseline'], index = ['Model']))\n",
        "results.append(line_df)"
      ],
      "execution_count": 0,
      "outputs": []
    },
    {
      "cell_type": "markdown",
      "metadata": {
        "id": "tX1nURstJEPL",
        "colab_type": "text"
      },
      "source": [
        "**KNNWithMeans Model**"
      ]
    },
    {
      "cell_type": "code",
      "metadata": {
        "id": "Lr0qr93UGze0",
        "colab_type": "code",
        "colab": {
          "base_uri": "https://localhost:8080/",
          "height": 70
        },
        "outputId": "7efc2d76-37a3-4642-bf79-4e53d24a4dd5"
      },
      "source": [
        "# KNNWithMeans Model\n",
        "from surprise import KNNWithMeans\n",
        "algo4 = KNNWithMeans()\n",
        "algo4.fit(trainset)"
      ],
      "execution_count": 36,
      "outputs": [
        {
          "output_type": "stream",
          "text": [
            "Computing the msd similarity matrix...\n",
            "Done computing similarity matrix.\n"
          ],
          "name": "stdout"
        },
        {
          "output_type": "execute_result",
          "data": {
            "text/plain": [
              "<surprise.prediction_algorithms.knns.KNNWithMeans at 0x7f9b7ac41400>"
            ]
          },
          "metadata": {
            "tags": []
          },
          "execution_count": 36
        }
      ]
    },
    {
      "cell_type": "code",
      "metadata": {
        "id": "6pvlkaB-Jgqh",
        "colab_type": "code",
        "colab": {
          "base_uri": "https://localhost:8080/",
          "height": 532
        },
        "outputId": "f49e7f19-aeb8-474e-aca4-a2be4cb1f447"
      },
      "source": [
        "# Run 5-fold cross-validation and then print results\n",
        "mean = cross_validate(algo4, data, measures=['RMSE', 'MAE'], cv=5, verbose=True)\n",
        "mean"
      ],
      "execution_count": 37,
      "outputs": [
        {
          "output_type": "stream",
          "text": [
            "Computing the msd similarity matrix...\n",
            "Done computing similarity matrix.\n",
            "Computing the msd similarity matrix...\n",
            "Done computing similarity matrix.\n",
            "Computing the msd similarity matrix...\n",
            "Done computing similarity matrix.\n",
            "Computing the msd similarity matrix...\n",
            "Done computing similarity matrix.\n",
            "Computing the msd similarity matrix...\n",
            "Done computing similarity matrix.\n",
            "Evaluating RMSE, MAE of algorithm KNNWithMeans on 5 split(s).\n",
            "\n",
            "                  Fold 1  Fold 2  Fold 3  Fold 4  Fold 5  Mean    Std     \n",
            "RMSE (testset)    1.0677  1.0619  1.0726  1.0692  1.0687  1.0680  0.0035  \n",
            "MAE (testset)     0.8263  0.8254  0.8317  0.8302  0.8319  0.8291  0.0027  \n",
            "Fit time          0.03    0.06    0.05    0.05    0.05    0.05    0.01    \n",
            "Test time         0.26    0.42    0.26    0.27    0.27    0.30    0.06    \n"
          ],
          "name": "stdout"
        },
        {
          "output_type": "execute_result",
          "data": {
            "text/plain": [
              "{'fit_time': (0.026952028274536133,\n",
              "  0.055382490158081055,\n",
              "  0.04926943778991699,\n",
              "  0.0488283634185791,\n",
              "  0.05002737045288086),\n",
              " 'test_mae': array([0.82632707, 0.82541597, 0.83172037, 0.83020007, 0.8318913 ]),\n",
              " 'test_rmse': array([1.0676821 , 1.06194838, 1.07257637, 1.06922525, 1.06869472]),\n",
              " 'test_time': (0.2561209201812744,\n",
              "  0.42163562774658203,\n",
              "  0.2613227367401123,\n",
              "  0.265561580657959,\n",
              "  0.2739732265472412)}"
            ]
          },
          "metadata": {
            "tags": []
          },
          "execution_count": 37
        }
      ]
    },
    {
      "cell_type": "code",
      "metadata": {
        "id": "BBTcFxyQHY2M",
        "colab_type": "code",
        "colab": {}
      },
      "source": [
        "#storing the results\n",
        "mean_df = pd.DataFrame.from_dict(mean).mean(axis=0)\n",
        "mean_df = mean_df.append(pd.Series(['KNNWithMeans'], index = ['Model']))\n",
        "results.append(mean_df)"
      ],
      "execution_count": 0,
      "outputs": []
    },
    {
      "cell_type": "code",
      "metadata": {
        "id": "IzNocYfkKdM0",
        "colab_type": "code",
        "colab": {
          "base_uri": "https://localhost:8080/",
          "height": 390
        },
        "outputId": "67da952d-faca-4664-a78a-30cf12c5cef5"
      },
      "source": [
        "results"
      ],
      "execution_count": 39,
      "outputs": [
        {
          "output_type": "execute_result",
          "data": {
            "text/plain": [
              "[test_rmse    0.992663\n",
              " test_mae     0.786788\n",
              " fit_time      4.38312\n",
              " test_time    0.173521\n",
              " Model             SVD\n",
              " dtype: object, test_rmse       1.1578\n",
              " test_mae      0.892353\n",
              " fit_time     0.0294139\n",
              " test_time     0.287335\n",
              " Model         KNNBasic\n",
              " dtype: object, test_rmse        1.06426\n",
              " test_mae        0.822463\n",
              " fit_time        0.280295\n",
              " test_time       0.377646\n",
              " Model        KNNBaseline\n",
              " dtype: object, test_rmse         1.06803\n",
              " test_mae         0.829111\n",
              " fit_time        0.0460919\n",
              " test_time        0.295723\n",
              " Model        KNNWithMeans\n",
              " dtype: object]"
            ]
          },
          "metadata": {
            "tags": []
          },
          "execution_count": 39
        }
      ]
    },
    {
      "cell_type": "code",
      "metadata": {
        "id": "Dg-3jQtTCHcG",
        "colab_type": "code",
        "colab": {
          "base_uri": "https://localhost:8080/",
          "height": 200
        },
        "outputId": "24b8e48f-dc18-4f36-bd17-8e0d4fdc5356"
      },
      "source": [
        "# all model results\n",
        "out = pd.DataFrame(results).set_index('Model')\n",
        "out"
      ],
      "execution_count": 41,
      "outputs": [
        {
          "output_type": "execute_result",
          "data": {
            "text/html": [
              "<div>\n",
              "<style scoped>\n",
              "    .dataframe tbody tr th:only-of-type {\n",
              "        vertical-align: middle;\n",
              "    }\n",
              "\n",
              "    .dataframe tbody tr th {\n",
              "        vertical-align: top;\n",
              "    }\n",
              "\n",
              "    .dataframe thead th {\n",
              "        text-align: right;\n",
              "    }\n",
              "</style>\n",
              "<table border=\"1\" class=\"dataframe\">\n",
              "  <thead>\n",
              "    <tr style=\"text-align: right;\">\n",
              "      <th></th>\n",
              "      <th>test_rmse</th>\n",
              "      <th>test_mae</th>\n",
              "      <th>fit_time</th>\n",
              "      <th>test_time</th>\n",
              "    </tr>\n",
              "    <tr>\n",
              "      <th>Model</th>\n",
              "      <th></th>\n",
              "      <th></th>\n",
              "      <th></th>\n",
              "      <th></th>\n",
              "    </tr>\n",
              "  </thead>\n",
              "  <tbody>\n",
              "    <tr>\n",
              "      <th>SVD</th>\n",
              "      <td>0.992663</td>\n",
              "      <td>0.786788</td>\n",
              "      <td>4.383118</td>\n",
              "      <td>0.173521</td>\n",
              "    </tr>\n",
              "    <tr>\n",
              "      <th>KNNBasic</th>\n",
              "      <td>1.157798</td>\n",
              "      <td>0.892353</td>\n",
              "      <td>0.029414</td>\n",
              "      <td>0.287335</td>\n",
              "    </tr>\n",
              "    <tr>\n",
              "      <th>KNNBaseline</th>\n",
              "      <td>1.064263</td>\n",
              "      <td>0.822463</td>\n",
              "      <td>0.280295</td>\n",
              "      <td>0.377646</td>\n",
              "    </tr>\n",
              "    <tr>\n",
              "      <th>KNNWithMeans</th>\n",
              "      <td>1.068025</td>\n",
              "      <td>0.829111</td>\n",
              "      <td>0.046092</td>\n",
              "      <td>0.295723</td>\n",
              "    </tr>\n",
              "  </tbody>\n",
              "</table>\n",
              "</div>"
            ],
            "text/plain": [
              "              test_rmse  test_mae  fit_time  test_time\n",
              "Model                                                 \n",
              "SVD            0.992663  0.786788  4.383118   0.173521\n",
              "KNNBasic       1.157798  0.892353  0.029414   0.287335\n",
              "KNNBaseline    1.064263  0.822463  0.280295   0.377646\n",
              "KNNWithMeans   1.068025  0.829111  0.046092   0.295723"
            ]
          },
          "metadata": {
            "tags": []
          },
          "execution_count": 41
        }
      ]
    }
  ]
}